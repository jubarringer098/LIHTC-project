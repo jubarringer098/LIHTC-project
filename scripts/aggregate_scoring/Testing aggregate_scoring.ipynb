{
 "cells": [
  {
   "cell_type": "code",
   "execution_count": 1,
   "id": "2d5b5dd6",
   "metadata": {},
   "outputs": [],
   "source": [
    "import pandas as pd\n",
    "import geopandas as gpd"
   ]
  },
  {
   "cell_type": "code",
   "execution_count": 2,
   "id": "58a298d3",
   "metadata": {},
   "outputs": [
    {
     "name": "stderr",
     "output_type": "stream",
     "text": [
      "/opt/homebrew/anaconda3/lib/python3.12/site-packages/thefuzz/fuzz.py:11: UserWarning: Using slow pure-python SequenceMatcher. Install python-Levenshtein to remove this warning\n",
      "  warnings.warn('Using slow pure-python SequenceMatcher. Install python-Levenshtein to remove this warning')\n"
     ]
    }
   ],
   "source": [
    "from aggregate_scoring import ScoringCriterion, AggregateScoringSystem, CommunityTransportationOptions, QualityEducation, DesirableUndesirableActivities, StableCommunities,HousingNeedsCharacteristics"
   ]
  },
  {
   "cell_type": "code",
   "execution_count": 3,
   "id": "e749cb94",
   "metadata": {},
   "outputs": [
    {
     "name": "stderr",
     "output_type": "stream",
     "text": [
      "/var/folders/w2/jx7kgvv14cx4km6tl2rymsmw0000gn/T/ipykernel_38324/3108687093.py:6: DeprecationWarning: The 'unary_union' attribute is deprecated, use the 'union_all()' method instead.\n",
      "  \"rural_gdf_unary_union\": gpd.read_file(\"../../data/raw/shapefiles/USDA_Rural_Housing_by_Tract_7054655361891465054/USDA_Rural_Housing_by_Tract.shp\").to_crs(\"EPSG:4326\").unary_union,\n"
     ]
    }
   ],
   "source": [
    "kwargs = {\n",
    "    # --- CommunityTransportationOptions ---\n",
    "    \"transit_df\": pd.read_csv(\"../../data/raw/scoring_indicators/community_trans_options_sites/georgia_transit_locations_with_hub.csv\"),\n",
    "\n",
    "    # --- DesirableUndesirableActivities ---\n",
    "    \"rural_gdf_unary_union\": gpd.read_file(\"../../data/raw/shapefiles/USDA_Rural_Housing_by_Tract_7054655361891465054/USDA_Rural_Housing_by_Tract.shp\").to_crs(\"EPSG:4326\").unary_union,\n",
    "    \"desirable_csv\": pd.read_csv(\"../../data/processed/scoring_indicators/desirable_undesirable_activities/desirable_activities_google_places_v3.csv\"),\n",
    "    \"grocery_csv\": pd.read_csv(\"../../data/processed/scoring_indicators/desirable_undesirable_activities/desirable_activities_google_places_v3.csv\"),\n",
    "    \"usda_csv\": pd.read_csv(\"../../data/raw/scoring_indicators/desirable_undesirable_activities/usda/food_access_research_atlas.csv\", dtype={'CensusTract': str}),\n",
    "    \"tract_shapefile\": gpd.read_file(\"../../data/raw/shapefiles/tl_2024_13_tract/tl_2024_13_tract.shp\"),\n",
    "    \"undesirable_csv\": pd.read_csv(\"../../data/processed/scoring_indicators/desirable_undesirable_activities/undesirable_hsi_tri_cdr_rcra_frs_google_places.csv\"),\n",
    "\n",
    "    # --- QualityEducation ---\n",
    "    \"school_df\": pd.read_csv(\"../../data/processed/scoring_indicators/quality_education/Option_C_Scores_Eligibility_with_BTO.csv\"),\n",
    "    \"school_boundary_gdfs\": [\n",
    "    gpd.read_file(\"../../data/raw/shapefiles/quality_education/Administrative.geojson\").to_crs(\"EPSG:4326\"),\n",
    "    gpd.read_file(\"../../data/raw/shapefiles/quality_education/APSBoundaries.json\").to_crs(\"EPSG:4326\"),\n",
    "    gpd.read_file(\"../../data/raw/shapefiles/quality_education/DKE.json\").to_crs(\"EPSG:4326\"),\n",
    "    gpd.read_file(\"../../data/raw/shapefiles/quality_education/DKM.json\").to_crs(\"EPSG:4326\"),\n",
    "    gpd.read_file(\"../../data/raw/shapefiles/quality_education/DKBHS.json\").to_crs(\"EPSG:4326\")\n",
    "    ],       \n",
    "    \"state_avg_by_year\": {\n",
    "        \"elementary\": {\n",
    "            2018: 77.8,\n",
    "            2019: 79.9\n",
    "        },\n",
    "        \"middle\": {\n",
    "            2018: 76.2,\n",
    "            2019: 77\n",
    "        },\n",
    "        \"high\": {\n",
    "            2018: 75.3,\n",
    "            2019: 78.8\n",
    "        }\n",
    "    },\n",
    "\n",
    "    # --- StableCommunities ---\n",
    "    \"indicators_df\": pd.read_csv(\"../../data/processed/scoring_indicators/stable_communities/stable_communities_2024_processed_v3.csv\"),\n",
    "    \"tracts_shp\": gpd.read_file(\"../../data/raw/shapefiles/tl_2024_13_tract/tl_2024_13_tract.shp\").to_crs(\"EPSG:4326\"),\n",
    "    \n",
    "    # --- HousingNeedsCharacteristics ---\n",
    "    \"census_tract_data\": pd.read_csv(\"../../data/processed/scoring_indicators/housing_needs/merged_housing_data.csv\"),\n",
    "    \"tracts_gdf\": gpd.read_file(\"../../data/raw/shapefiles/HousingNeeds/tl_2020_13_tract/tl_2020_13_tract.shp\").to_crs(\"EPSG:4326\"),\n",
    "    #\"revitalization_score\": 4,\n",
    "    \"in_qct\": False  # Required for housing need eligibility\n",
    "} "
   ]
  },
  {
   "cell_type": "markdown",
   "id": "18b4c366",
   "metadata": {},
   "source": [
    "# Compute Scores"
   ]
  },
  {
   "cell_type": "code",
   "execution_count": 4,
   "id": "35d74fdc",
   "metadata": {},
   "outputs": [],
   "source": [
    "site_latitude = 33.856192\n",
    "site_longitude = -84.347348"
   ]
  },
  {
   "cell_type": "markdown",
   "id": "0a86eeb0",
   "metadata": {},
   "source": [
    "### Community Transportation Options Score"
   ]
  },
  {
   "cell_type": "code",
   "execution_count": 5,
   "id": "f08240bd",
   "metadata": {},
   "outputs": [
    {
     "name": "stdout",
     "output_type": "stream",
     "text": [
      "Community Transportation Options Score: 4.0\n"
     ]
    }
   ],
   "source": [
    "community_transportation_options_score = CommunityTransportationOptions(site_latitude, site_longitude, **kwargs).calculate_score()\n",
    "print(f\"Community Transportation Options Score: {community_transportation_options_score}\")"
   ]
  },
  {
   "cell_type": "markdown",
   "id": "aca0b03f",
   "metadata": {},
   "source": [
    "### Desirable/Undesirable Activities Score"
   ]
  },
  {
   "cell_type": "code",
   "execution_count": 6,
   "id": "3526749f",
   "metadata": {},
   "outputs": [
    {
     "name": "stdout",
     "output_type": "stream",
     "text": [
      "Desirable Undesirable Activities Score: 20\n"
     ]
    }
   ],
   "source": [
    "desirable_undesirable_activities_score = DesirableUndesirableActivities(site_latitude, site_longitude, **kwargs).calculate_score()\n",
    "print(f\"Desirable Undesirable Activities Score: {desirable_undesirable_activities_score}\")"
   ]
  },
  {
   "cell_type": "markdown",
   "id": "d1f91264",
   "metadata": {},
   "source": [
    "### Quality Education Areas Score"
   ]
  },
  {
   "cell_type": "code",
   "execution_count": 7,
   "id": "0e2983a0",
   "metadata": {},
   "outputs": [
    {
     "name": "stdout",
     "output_type": "stream",
     "text": [
      "Quality Education Score: 3\n"
     ]
    }
   ],
   "source": [
    "quality_education_score = QualityEducation(site_latitude, site_longitude, **kwargs).calculate_score()\n",
    "print(f\"Quality Education Score: {quality_education_score}\")"
   ]
  },
  {
   "cell_type": "markdown",
   "id": "9a1ab613",
   "metadata": {},
   "source": [
    "### Stable Communities Score"
   ]
  },
  {
   "cell_type": "code",
   "execution_count": 8,
   "id": "39b7f02e",
   "metadata": {},
   "outputs": [
    {
     "name": "stdout",
     "output_type": "stream",
     "text": [
      "Stable Communities Score: 9\n"
     ]
    }
   ],
   "source": [
    "stable_communities_score = StableCommunities(site_latitude, site_longitude, **kwargs).calculate_score()\n",
    "print(f\"Stable Communities Score: {stable_communities_score}\")"
   ]
  },
  {
   "cell_type": "markdown",
   "id": "4ce9c358",
   "metadata": {},
   "source": [
    "### Total Location Score"
   ]
  },
  {
   "cell_type": "code",
   "execution_count": 9,
   "id": "c06ebe4f",
   "metadata": {},
   "outputs": [
    {
     "name": "stdout",
     "output_type": "stream",
     "text": [
      "Total Location Score: 36.0\n"
     ]
    }
   ],
   "source": [
    "total_location_score = community_transportation_options_score + desirable_undesirable_activities_score + quality_education_score + stable_communities_score \n",
    "print(f\"Total Location Score: {total_location_score}\")"
   ]
  }
 ],
 "metadata": {
  "kernelspec": {
   "display_name": "base",
   "language": "python",
   "name": "python3"
  },
  "language_info": {
   "codemirror_mode": {
    "name": "ipython",
    "version": 3
   },
   "file_extension": ".py",
   "mimetype": "text/x-python",
   "name": "python",
   "nbconvert_exporter": "python",
   "pygments_lexer": "ipython3",
   "version": "3.12.9"
  }
 },
 "nbformat": 4,
 "nbformat_minor": 5
}

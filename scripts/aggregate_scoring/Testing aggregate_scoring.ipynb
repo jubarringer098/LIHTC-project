{
 "cells": [
  {
   "cell_type": "code",
   "execution_count": 1,
   "id": "2d5b5dd6",
   "metadata": {},
   "outputs": [],
   "source": [
    "import pandas as pd\n",
    "import geopandas as gpd"
   ]
  },
  {
   "cell_type": "code",
   "execution_count": 2,
   "id": "58a298d3",
   "metadata": {},
   "outputs": [],
   "source": [
    "from aggregate_scoring import ScoringCriterion, CommunityTransportationOptions, QualityEducation, DesirableUndesirableActivities, StableCommunities,HousingNeedsCharacteristics"
   ]
  },
  {
   "cell_type": "code",
   "execution_count": null,
   "id": "e749cb94",
   "metadata": {},
   "outputs": [
    {
     "name": "stderr",
     "output_type": "stream",
     "text": [
      "/var/folders/yz/q33xv4fs0dq572js9z4gsb0h0000gn/T/ipykernel_60211/4040703654.py:6: DeprecationWarning: The 'unary_union' attribute is deprecated, use the 'union_all()' method instead.\n",
      "  \"rural_gdf_unary_union\": gpd.read_file(\"../../data/raw/shapefiles/USDA_Rural_Housing_by_Tract_7054655361891465054/USDA_Rural_Housing_by_Tract.shp\").to_crs(\"EPSG:4326\").unary_union,\n",
      "/opt/anaconda3/lib/python3.12/site-packages/pyogrio/raw.py:198: RuntimeWarning: driver GeoJSON does not support open option CRS\n",
      "  return ogr_read(\n"
     ]
    }
   ],
   "source": [
    "kwargs = {\n",
    "    # --- CommunityTransportationOptions ---\n",
    "    \"transit_df\": pd.read_csv(\"../../data/raw/scoring_indicators/community_trans_options_sites/georgia_transit_locations_with_hub.csv\"),\n",
    "\n",
    "    # --- DesirableUndesirableActivities ---\n",
    "    \"rural_gdf_unary_union\": gpd.read_file(\"../../data/raw/shapefiles/USDA_Rural_Housing_by_Tract_7054655361891465054/USDA_Rural_Housing_by_Tract.shp\").to_crs(\"EPSG:4326\").unary_union,\n",
    "    \"desirable_csv\": pd.read_csv(\"../../data/processed/scoring_indicators/desirable_activities_google_places_v3.csv\"),\n",
    "    \"grocery_csv\": pd.read_csv(\"../../data/processed/scoring_indicators/desirable_activities_google_places_v3.csv\"),\n",
    "    \"usda_csv\": pd.read_csv(\"../../data/raw/scoring_indicators/food_access_research_atlas.csv\", dtype={'CensusTract': str}),\n",
    "    \"tract_shapefile\": gpd.read_file(\"../../data/raw/shapefiles/tl_2024_13_tract/tl_2024_13_tract.shp\"),\n",
    "    \"undesirable_csv\": pd.read_csv(\"../../data/processed/scoring_indicators/undesirable_hsi_tri_cdr_rcra_frs_google_places.csv\"),\n",
    "\n",
    "    # --- QualityEducation ---\n",
    "    \"school_df\": pd.read_csv(\"../../data/processed/scoring_indicators/quality_education/Option_C_Scores_Eligibility_with_BTO.csv\"),\n",
    "    \"combined_gdf\": gpd.read_file(\"../../data/processed/scoring_indicators/quality_education/merged1.geojson\", crs=\"EPSG:4326\"),\n",
    "    \"state_avg_by_year\": {\n",
    "        \"elementary\": {\n",
    "            2018: 77.8,\n",
    "            2019: 79.9\n",
    "        },\n",
    "        \"middle\": {\n",
    "            2018: 76.2,\n",
    "            2019: 77\n",
    "        },\n",
    "        \"high\": {\n",
    "            2018: 75.3,\n",
    "            2019: 78.8\n",
    "        }\n",
    "    },\n",
    "\n",
    "    # --- StableCommunities ---\n",
    "    \"indicators_df\": pd.read_csv(\"../../data/processed/scoring_indicators/stable_communities_2024_processed.csv\"),\n",
    "    \"tracts_shp\": gpd.read_file(\"../../data/raw/shapefiles/tl_2024_13_tract/tl_2024_13_tract.shp\").to_crs(\"EPSG:4326\"),\n",
    "    \n",
    "    # --- HousingNeedsCharacteristics ---\n",
    "    \"census_tract_data\": pd.read_csv(\"../../data/processed/scoring_indicators/housing_needs/merged_housing_data.csv\"),\n",
    "    \"tracts_gdf\": gpd.read_file(\"../../data/raw/shapefiles/HousingNeeds/tl_2020_13_tract/tl_2020_13_tract.shp\").to_crs(\"EPSG:4326\"),\n",
    "    #\"revitalization_score\": 4,\n",
    "    \"in_qct\": False  # Required for housing need eligibility\n",
    "} "
   ]
  },
  {
   "cell_type": "code",
   "execution_count": null,
   "id": "9b192cf1",
   "metadata": {},
   "outputs": [],
   "source": [
    "kwargs"
   ]
  },
  {
   "cell_type": "code",
   "execution_count": 4,
   "id": "4121f829",
   "metadata": {},
   "outputs": [
    {
     "data": {
      "text/plain": [
       "1"
      ]
     },
     "execution_count": 4,
     "metadata": {},
     "output_type": "execute_result"
    }
   ],
   "source": [
    "QualityEducation(33.749884, -84.379744, **kwargs).calculate_score()"
   ]
  },
  {
   "cell_type": "code",
   "execution_count": 5,
   "id": "456f398e",
   "metadata": {},
   "outputs": [
    {
     "data": {
      "text/plain": [
       "<bound method QualityEducation.qualifies_by_A of <aggregate_scoring.QualityEducation object at 0x1759075c0>>"
      ]
     },
     "execution_count": 5,
     "metadata": {},
     "output_type": "execute_result"
    }
   ],
   "source": [
    "QualityEducation(32.439104, -84.943867, **kwargs).qualifies_by_A"
   ]
  },
  {
   "cell_type": "code",
   "execution_count": 6,
   "id": "364674e0",
   "metadata": {},
   "outputs": [],
   "source": [
    "du = DesirableUndesirableActivities(32.439104, -84.943867, **kwargs)"
   ]
  },
  {
   "cell_type": "code",
   "execution_count": 7,
   "id": "75eec2ba",
   "metadata": {},
   "outputs": [
    {
     "data": {
      "text/plain": [
       "False"
      ]
     },
     "execution_count": 7,
     "metadata": {},
     "output_type": "execute_result"
    }
   ],
   "source": [
    "du.classify_location(32.439104, -84.943867)"
   ]
  },
  {
   "cell_type": "code",
   "execution_count": 8,
   "id": "bd2811b3",
   "metadata": {},
   "outputs": [
    {
     "data": {
      "text/plain": [
       "20"
      ]
     },
     "execution_count": 8,
     "metadata": {},
     "output_type": "execute_result"
    }
   ],
   "source": [
    "du.calculate_score()"
   ]
  },
  {
   "cell_type": "code",
   "execution_count": 7,
   "id": "07063d3e",
   "metadata": {},
   "outputs": [
    {
     "name": "stdout",
     "output_type": "stream",
     "text": [
      "Loading Done\n",
      "desirable_score done\n",
      "food done\n",
      "undesirable done\n"
     ]
    },
    {
     "data": {
      "text/plain": [
       "20"
      ]
     },
     "execution_count": 7,
     "metadata": {},
     "output_type": "execute_result"
    }
   ],
   "source": [
    "DesirableUndesirableActivities(32.439104, -84.943867, **kwargs).calculate_score()"
   ]
  },
  {
   "cell_type": "code",
   "execution_count": 9,
   "id": "39b7f02e",
   "metadata": {},
   "outputs": [
    {
     "data": {
      "text/plain": [
       "5"
      ]
     },
     "execution_count": 9,
     "metadata": {},
     "output_type": "execute_result"
    }
   ],
   "source": [
    "StableCommunities(32.439104, -84.943867, **kwargs).calculate_score()"
   ]
  },
  {
   "cell_type": "code",
   "execution_count": 11,
   "id": "d58e4c9e",
   "metadata": {},
   "outputs": [
    {
     "data": {
      "text/plain": [
       "False"
      ]
     },
     "execution_count": 11,
     "metadata": {},
     "output_type": "execute_result"
    }
   ],
   "source": [
    "HousingNeedsCharacteristics(32.439104, -84.943867, **kwargs).qualifies_for_housing_need_and_growth()"
   ]
  },
  {
   "cell_type": "code",
   "execution_count": 10,
   "id": "aed6549e",
   "metadata": {},
   "outputs": [
    {
     "data": {
      "text/plain": [
       "0"
      ]
     },
     "execution_count": 10,
     "metadata": {},
     "output_type": "execute_result"
    }
   ],
   "source": [
    "HousingNeedsCharacteristics(32.439104, -84.943867, **kwargs).calculate_score()"
   ]
  },
  {
   "cell_type": "code",
   "execution_count": 16,
   "id": "bc0a8b65",
   "metadata": {},
   "outputs": [
    {
     "data": {
      "text/plain": [
       "<bound method HousingNeedsCharacteristics.qualifies_for_housing_need_and_growth of <aggregate_scoring.HousingNeedsCharacteristics object at 0x168518b00>>"
      ]
     },
     "execution_count": 16,
     "metadata": {},
     "output_type": "execute_result"
    }
   ],
   "source": [
    "HousingNeedsCharacteristics(32.439104, -84.943867, **kwargs).qualifies_for_housing_need_and_growth"
   ]
  },
  {
   "cell_type": "code",
   "execution_count": 11,
   "id": "2401b47c",
   "metadata": {},
   "outputs": [
    {
     "data": {
      "text/plain": [
       "{}"
      ]
     },
     "execution_count": 11,
     "metadata": {},
     "output_type": "execute_result"
    }
   ],
   "source": [
    "HousingNeedsCharacteristics(32.439104, -84.943867, **kwargs).census_tract_data"
   ]
  },
  {
   "cell_type": "code",
   "execution_count": 8,
   "id": "7f1c861a",
   "metadata": {},
   "outputs": [
    {
     "data": {
      "text/plain": [
       "5.0"
      ]
     },
     "execution_count": 8,
     "metadata": {},
     "output_type": "execute_result"
    }
   ],
   "source": [
    "CommunityTransportationOptions(33.823971, -84.616553, **kwargs).calculate_score()"
   ]
  },
  {
   "cell_type": "code",
   "execution_count": 13,
   "id": "5efdbf26",
   "metadata": {},
   "outputs": [
    {
     "name": "stdout",
     "output_type": "stream",
     "text": [
      "Candidate stops: 47\n"
     ]
    }
   ],
   "source": [
    "candidates = CommunityTransportationOptions(33.823971, -84.616553, **kwargs).filter_candidate_stops()\n",
    "print(\"Candidate stops:\", len(candidates))"
   ]
  },
  {
   "cell_type": "code",
   "execution_count": null,
   "id": "9d9a425d",
   "metadata": {},
   "outputs": [],
   "source": [
    "instance = CommunityTransportationOptions(30.38181999999999, -84.282361, **kwargs)\n",
    "candidates = instance.filter_candidate_stops()\n",
    "results = instance.calculate_all_walking_distances(candidates)"
   ]
  },
  {
   "cell_type": "code",
   "execution_count": 7,
   "id": "853c46e0",
   "metadata": {},
   "outputs": [
    {
     "data": {
      "text/plain": [
       "5.0"
      ]
     },
     "execution_count": 7,
     "metadata": {},
     "output_type": "execute_result"
    }
   ],
   "source": [
    "CommunityTransportationOptions(30.38181999999999, -84.282361, **kwargs).calculate_score()"
   ]
  }
 ],
 "metadata": {
  "kernelspec": {
   "display_name": "base",
   "language": "python",
   "name": "python3"
  },
  "language_info": {
   "codemirror_mode": {
    "name": "ipython",
    "version": 3
   },
   "file_extension": ".py",
   "mimetype": "text/x-python",
   "name": "python",
   "nbconvert_exporter": "python",
   "pygments_lexer": "ipython3",
   "version": "3.12.2"
  }
 },
 "nbformat": 4,
 "nbformat_minor": 5
}

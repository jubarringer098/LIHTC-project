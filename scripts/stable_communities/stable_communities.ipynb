{
 "cells": [
  {
   "cell_type": "code",
   "execution_count": 1,
   "metadata": {},
   "outputs": [],
   "source": [
    "import geopandas as gpd\n",
    "import pandas as pd\n",
    "import requests\n",
    "from shapely.geometry import Point\n",
    "import numpy as np\n",
    "from geopy.distance import geodesic"
   ]
  },
  {
   "cell_type": "code",
   "execution_count": 2,
   "metadata": {},
   "outputs": [],
   "source": [
    "\n",
    "census_tracts = gpd.read_file(\"../../data/raw/shapefiles/tl_2024_13_tract/tl_2024_13_tract.shp\")\n",
    "ga_tracts = census_tracts.to_crs(epsg=4326)\n"
   ]
  },
  {
   "cell_type": "code",
   "execution_count": 3,
   "metadata": {},
   "outputs": [],
   "source": [
    "def find_census_tracts(lat, lon, census_tracts_gdf):\n",
    "    \"\"\"\n",
    "    Identify the census tract containing the point and census tracts within 0.25 miles.\n",
    "    \"\"\"\n",
    "    point = Point(lon, lat)\n",
    "    \n",
    "    # Ensure the census tracts are in WGS 84 (EPSG:4326) for point lookup\n",
    "    census_tracts_gdf = census_tracts_gdf.to_crs(epsg=4326)\n",
    "    actual_tract = census_tracts_gdf[census_tracts_gdf.contains(point)]\n",
    "    \n",
    "    # Convert to a projected CRS (meters) for distance calculations\n",
    "    census_tracts_meters = census_tracts_gdf.to_crs(epsg=3857)\n",
    "    point_meters = gpd.GeoSeries([point], crs=4326).to_crs(epsg=3857).iloc[0]\n",
    "    \n",
    "    # Buffer 0.25 miles (~402 meters) and find nearby census tracts\n",
    "    point_buffer = point_meters.buffer(402)  \n",
    "    nearby_tracts = census_tracts_meters[census_tracts_meters.intersects(point_buffer)]\n",
    "    \n",
    "    tract_dict = {}\n",
    "    if not actual_tract.empty:\n",
    "        tract_dict[\"actual\"] = actual_tract.iloc[0][\"GEOID\"]  \n",
    "    \n",
    "    for idx, row in nearby_tracts.iterrows():\n",
    "        if row[\"GEOID\"] != tract_dict.get(\"actual\"):\n",
    "            tract_dict[f\"tract{idx}\"] = row[\"GEOID\"]\n",
    "    \n",
    "    return tract_dict"
   ]
  },
  {
   "cell_type": "code",
   "execution_count": null,
   "metadata": {},
   "outputs": [],
   "source": [
    "# def calculate_indicators_score(tract_dict, indicators_df):\n",
    "#     \"\"\"\n",
    "#     Calculate the number of indicators above the 50th percentile and determine the score.\n",
    "#     \"\"\"\n",
    "#     indicators = [\n",
    "#         \"above_median_Environmental Health Index\",\n",
    "#         \"above_median_Transit Access Index\",\n",
    "#         \"above_median_Percent of Population Above the Poverty Level\",\n",
    "#         \"above_median_Median Income\",\n",
    "#         \"above_median_Jobs Proximity Index\"\n",
    "#     ]\n",
    "    \n",
    "#     actual_tract = tract_dict.get(\"actual\")\n",
    "    \n",
    "#     # Ensure census tract column is treated as string for proper matching\n",
    "#     indicators_df[\"2020 Census Tract\"] = indicators_df[\"2020 Census Tract\"].astype(str)\n",
    "    \n",
    "#     if actual_tract and actual_tract in indicators_df[\"2020 Census Tract\"].values:\n",
    "#         actual_data = indicators_df[indicators_df[\"2020 Census Tract\"] == actual_tract]\n",
    "#         actual_count = actual_data[indicators].sum(axis=1).iloc[0]  # Use .iloc[0] to extract value properly\n",
    "#     else:\n",
    "#         actual_count = 0\n",
    "    \n",
    "#     near_counts = []\n",
    "#     for key, tract in tract_dict.items():\n",
    "#         if key == \"actual\":\n",
    "#             continue\n",
    "#         if tract in indicators_df[\"2020 Census Tract\"].values:\n",
    "#             near_data = indicators_df[indicators_df[\"2020 Census Tract\"] == tract]\n",
    "#             near_counts.append(near_data[indicators].sum(axis=1).iloc[0])\n",
    "    \n",
    "#     near_max = max(near_counts) if near_counts else 0\n",
    "    \n",
    "#     # Determine points based on the rules\n",
    "#     if actual_count >= 4:\n",
    "#         score = 10\n",
    "#     elif actual_count == 3:\n",
    "#         score = 8\n",
    "#     elif actual_count == 2:\n",
    "#         score = 6\n",
    "#     elif near_max >= 4:\n",
    "#         score = 9\n",
    "#     elif near_max == 3:\n",
    "#         score = 7\n",
    "#     elif near_max == 2:\n",
    "#         score = 5\n",
    "#     else:\n",
    "#         score = 0\n",
    "    \n",
    "#     return {\n",
    "#         \"actual_tract\": actual_tract,\n",
    "#         \"actual_count\": actual_count,\n",
    "#         \"nearby_max\": near_max,\n",
    "#         \"score\": score\n",
    "#     }\n",
    "\n",
    "# # Load the census tracts shapefile\n",
    "# gdf = gpd.read_file(\"../../data/raw/shapefiles/tl_2024_13_tract/tl_2024_13_tract.shp\")\n",
    "# gdf = gdf.to_crs(epsg=4326)  \n",
    "\n",
    "# # Load the indicators dataset\n",
    "# indicators_df = pd.read_csv(\"../../data/processed/scoring_indicators/stable_communities_2024_processed_v3.csv\")"
   ]
  },
  {
   "cell_type": "code",
   "execution_count": 5,
   "metadata": {},
   "outputs": [],
   "source": [
    "def calculate_indicators_score(tract_dict, indicators_df):\n",
    "\n",
    "    # These are the columns that reflect whether an indicator is above the pool-specific 50th percentile\n",
    "    indicators = [\n",
    "        \"above_median_Environmental Health Index\",\n",
    "        \"above_median_Transit Access Index\",\n",
    "        \"above_median_Percent of Population Above the Poverty Level\",\n",
    "        \"above_median_Median Income\",\n",
    "        \"above_median_Jobs Proximity Index\"\n",
    "    ]\n",
    "\n",
    "    indicators_df[\"2020 Census Tract\"] = indicators_df[\"2020 Census Tract\"].astype(str)\n",
    "    actual_tract = tract_dict.get(\"actual\")\n",
    "\n",
    "    # --- Actual tract flags ---\n",
    "    actual_flags = pd.Series([0] * len(indicators), index=indicators)\n",
    "    if actual_tract and actual_tract in indicators_df[\"2020 Census Tract\"].values:\n",
    "        actual_row = indicators_df[indicators_df[\"2020 Census Tract\"] == actual_tract]\n",
    "        actual_flags = actual_row[indicators].iloc[0]\n",
    "    actual_count = int(actual_flags.sum())\n",
    "\n",
    "    # --- Nearby tract flags (only nearby, excluding actual) ---\n",
    "    nearby_flags = pd.Series([0] * len(indicators), index=indicators)\n",
    "    for key, tract in tract_dict.items():\n",
    "        if key == \"actual\":\n",
    "            continue\n",
    "        if tract in indicators_df[\"2020 Census Tract\"].values:\n",
    "            row = indicators_df[indicators_df[\"2020 Census Tract\"] == tract]\n",
    "            flags = row[indicators].iloc[0]\n",
    "            nearby_flags = nearby_flags.combine(flags, func=max)\n",
    "    nearby_count = int(nearby_flags.sum())\n",
    "\n",
    "    # --- Combined flags (actual + all nearby) ---\n",
    "    combined_flags = actual_flags.combine(nearby_flags, func=max)\n",
    "    combined_count = int(combined_flags.sum())\n",
    "\n",
    "    # --- Actual-only scoring (must come 100% from actual tract) ---\n",
    "    if actual_count >= 4:\n",
    "        actual_only_score = 10\n",
    "    elif actual_count == 3:\n",
    "        actual_only_score = 8\n",
    "    elif actual_count == 2:\n",
    "        actual_only_score = 6\n",
    "    else:\n",
    "        actual_only_score = 0\n",
    "\n",
    "    # --- Nearby scoring (uses combined indicators) ---\n",
    "    if nearby_count > 0:\n",
    "        if combined_count >= 4:\n",
    "            nearby_score = 9\n",
    "        elif combined_count == 3:\n",
    "            nearby_score = 7\n",
    "        elif combined_count == 2:\n",
    "            nearby_score = 5\n",
    "        else:\n",
    "            nearby_score = 0\n",
    "    else:\n",
    "        nearby_score = 0 \n",
    "\n",
    "    return {\n",
    "        \"actual_tract\": actual_tract,\n",
    "        \"actual_count\": actual_count,\n",
    "        \"nearby_count\": nearby_count,\n",
    "        \"combined_count\": combined_count,\n",
    "        \"actual_only_score\": actual_only_score,\n",
    "        \"nearby_score\": nearby_score\n",
    "    }\n",
    "\n",
    "    # indicators_df[\"2020 Census Tract\"] = indicators_df[\"2020 Census Tract\"].astype(str)\n",
    "    # actual_tract = tract_dict.get(\"actual\")\n",
    "\n",
    "    # # Get indicator flags for actual tract\n",
    "    # actual_flags = pd.Series([0]*len(indicators), index=indicators)\n",
    "    # if actual_tract and actual_tract in indicators_df[\"2020 Census Tract\"].values:\n",
    "    #     row = indicators_df[indicators_df[\"2020 Census Tract\"] == actual_tract]\n",
    "    #     actual_flags = row[indicators].iloc[0]\n",
    "\n",
    "    # # Get indicator flags from all nearby tracts (combined)\n",
    "    # nearby_flags = pd.Series([0]*len(indicators), index=indicators)\n",
    "    # for key, tract in tract_dict.items():\n",
    "    #     if key == \"actual\":\n",
    "    #         continue\n",
    "    #     if tract in indicators_df[\"2020 Census Tract\"].values:\n",
    "    #         row = indicators_df[indicators_df[\"2020 Census Tract\"] == tract]\n",
    "    #         flags = row[indicators].iloc[0]\n",
    "    #         nearby_flags = nearby_flags.combine(flags, func=max)\n",
    "\n",
    "    # # Check if ANY indicators came from nearby tracts\n",
    "    # mixed_sources = any((actual_flags + nearby_flags) > 1) or any(nearby_flags > 0)\n",
    "\n",
    "    # if mixed_sources:\n",
    "    #     # Use nearby score, combining all indicator sources\n",
    "    #     total_indicators = (actual_flags + nearby_flags).clip(upper=1).sum()\n",
    "    #     if total_indicators >= 4:\n",
    "    #         score = 9\n",
    "    #     elif total_indicators == 3:\n",
    "    #         score = 7\n",
    "    #     elif total_indicators == 2:\n",
    "    #         score = 5\n",
    "    #     else:\n",
    "    #         score = 0\n",
    "    #     source = \"nearby\"\n",
    "    # else:\n",
    "    #     # Use within score from actual tract only\n",
    "    #     total_indicators = actual_flags.sum()\n",
    "    #     if total_indicators >= 4:\n",
    "    #         score = 10\n",
    "    #     elif total_indicators == 3:\n",
    "    #         score = 8\n",
    "    #     elif total_indicators == 2:\n",
    "    #         score = 6\n",
    "    #     else:\n",
    "    #         score = 0\n",
    "    #     source = \"actual\"\n",
    "\n",
    "    # return {\n",
    "    #     \"actual_tract\": actual_tract,\n",
    "    #     \"actual_count\": int(actual_flags.sum()),\n",
    "    #     \"nearby_count\": int(nearby_flags.sum()),\n",
    "    #     \"total_unique_indicators\": int((actual_flags + nearby_flags).clip(upper=1).sum()),\n",
    "    #     \"score\": score,\n",
    "    #     \"used\": source\n",
    "    # }\n",
    "# Load the census tracts shapefile\n",
    "gdf = gpd.read_file(\"../../data/raw/shapefiles/tl_2024_13_tract/tl_2024_13_tract.shp\")\n",
    "gdf = gdf.to_crs(epsg=4326)  \n",
    "\n",
    "# Load the indicators dataset\n",
    "indicators_df = pd.read_csv(\"../../data/processed/scoring_indicators/stable_communities/stable_communities_2024_processed_v3.csv\")"
   ]
  },
  {
   "cell_type": "code",
   "execution_count": 6,
   "metadata": {},
   "outputs": [],
   "source": [
    "def get_stable_communities_score(lat, lon, score_type, verbose=False):\n",
    "    tract_info = find_census_tracts(lat, lon, gdf)\n",
    "    score_info = calculate_indicators_score(tract_info, indicators_df)\n",
    "    if verbose:\n",
    "        print(f\"Point: ({lat}, {lon})\")\n",
    "        print(\"Score Info:\", score_info)\n",
    "    if score_type == \"use_only_actual_tract\":\n",
    "        return score_info[\"actual_only_score\"]\n",
    "    elif score_type == \"use_nearby_tract\":\n",
    "        return score_info[\"nearby_score\"]\n",
    "    else:\n",
    "        raise ValueError(\"Invalid score_type. Choose 'actual_only' or 'nearby'.\")"
   ]
  },
  {
   "cell_type": "code",
   "execution_count": 7,
   "metadata": {},
   "outputs": [
    {
     "name": "stdout",
     "output_type": "stream",
     "text": [
      "Tract Information: {'actual': '13035150201'}\n",
      "Score Information: {'actual_tract': '13035150201', 'actual_count': 1, 'nearby_count': 0, 'combined_count': 1, 'actual_only_score': 0, 'nearby_score': 0}\n",
      "0\n",
      "0\n"
     ]
    }
   ],
   "source": [
    "# Hertitage Competitive Core\n",
    "latitude = 33.278968\n",
    "longitude = -83.965148\n",
    "tract_info = find_census_tracts(latitude, longitude, gdf)\n",
    "score_info = calculate_indicators_score(tract_info, indicators_df)\n",
    "\n",
    "print(\"Tract Information:\", tract_info)\n",
    "print(\"Score Information:\", score_info)\n",
    "\n",
    "print(get_stable_communities_score(33.278968,-83.965148, score_type = 'use_only_actual_tract'))\n",
    "print(get_stable_communities_score(33.278968,-83.965148, score_type = 'use_nearby_tract'))"
   ]
  },
  {
   "cell_type": "code",
   "execution_count": 8,
   "metadata": {},
   "outputs": [
    {
     "name": "stdout",
     "output_type": "stream",
     "text": [
      "Tract Information: {'actual': '13121007002'}\n",
      "Score Information: {'actual_tract': '13121007002', 'actual_count': 2, 'nearby_count': 0, 'combined_count': 2, 'actual_only_score': 6, 'nearby_score': 0}\n",
      "6\n",
      "0\n"
     ]
    }
   ],
   "source": [
    "# Jonesboro Appartments\n",
    "latitude = 33.690717\n",
    "longitude = -84.36506\n",
    "tract_info = find_census_tracts(latitude, longitude, gdf)\n",
    "score_info = calculate_indicators_score(tract_info, indicators_df)\n",
    "\n",
    "print(\"Tract Information:\", tract_info)\n",
    "print(\"Score Information:\", score_info)\n",
    "\n",
    "print(get_stable_communities_score(33.690717,-84.36506, score_type = 'use_only_actual_tract'))\n",
    "print(get_stable_communities_score(33.690717,-84.36506, score_type = 'use_nearby_tract'))"
   ]
  },
  {
   "cell_type": "code",
   "execution_count": 9,
   "metadata": {},
   "outputs": [
    {
     "name": "stdout",
     "output_type": "stream",
     "text": [
      "Tract Information: {'actual': '13179010402', 'tract840': '13179010202'}\n",
      "Score Information: {'actual_tract': '13179010402', 'actual_count': 1, 'nearby_count': 2, 'combined_count': 2, 'actual_only_score': 0, 'nearby_score': 5}\n"
     ]
    }
   ],
   "source": [
    "# The Benson\n",
    "latitude = 31.811994\n",
    "longitude = -81.604555\n",
    "tract_info = find_census_tracts(latitude, longitude, gdf)\n",
    "score_info = calculate_indicators_score(tract_info, indicators_df)\n",
    "\n",
    "print(\"Tract Information:\", tract_info)\n",
    "print(\"Score Information:\", score_info)"
   ]
  },
  {
   "cell_type": "code",
   "execution_count": 10,
   "metadata": {},
   "outputs": [
    {
     "name": "stdout",
     "output_type": "stream",
     "text": [
      "Tract Information: {'actual': '13177020403'}\n",
      "Score Information: {'actual_tract': '13177020403', 'actual_count': 4, 'nearby_count': 0, 'combined_count': 4, 'actual_only_score': 10, 'nearby_score': 0}\n"
     ]
    }
   ],
   "source": [
    "# Retreat at McIntosh Farms\n",
    "latitude = 31.63724\n",
    "longitude = -84.24108\n",
    "tract_info = find_census_tracts(latitude, longitude, gdf)\n",
    "score_info = calculate_indicators_score(tract_info, indicators_df)\n",
    "\n",
    "print(\"Tract Information:\", tract_info)\n",
    "print(\"Score Information:\", score_info)"
   ]
  },
  {
   "cell_type": "code",
   "execution_count": 11,
   "metadata": {},
   "outputs": [
    {
     "name": "stdout",
     "output_type": "stream",
     "text": [
      "Tract Information: {'actual': '13063040424'}\n",
      "Score Information: {'actual_tract': '13063040424', 'actual_count': 4, 'nearby_count': 0, 'combined_count': 4, 'actual_only_score': 10, 'nearby_score': 0}\n"
     ]
    }
   ],
   "source": [
    "# Westchester Place\n",
    "latitude = 33.558082\n",
    "longitude = -84.338218\n",
    "tract_info = find_census_tracts(latitude, longitude, gdf)\n",
    "score_info = calculate_indicators_score(tract_info, indicators_df)\n",
    "\n",
    "print(\"Tract Information:\", tract_info)\n",
    "print(\"Score Information:\", score_info)"
   ]
  },
  {
   "cell_type": "code",
   "execution_count": 12,
   "metadata": {},
   "outputs": [
    {
     "name": "stdout",
     "output_type": "stream",
     "text": [
      "Tract Information: {'actual': '13089021104', 'tract427': '13089021405', 'tract1070': '13121009410', 'tract2570': '13121009607', 'tract2628': '13121010007'}\n",
      "Score Information: {'actual_tract': '13089021104', 'actual_count': 3, 'nearby_count': 5, 'combined_count': 5, 'actual_only_score': 8, 'nearby_score': 9}\n"
     ]
    }
   ],
   "source": [
    "# The Shelby\n",
    "latitude = 33.856192\n",
    "longitude = -84.347348\n",
    "tract_info = find_census_tracts(latitude, longitude, gdf)\n",
    "score_info = calculate_indicators_score(tract_info, indicators_df)\n",
    "\n",
    "print(\"Tract Information:\", tract_info)\n",
    "print(\"Score Information:\", score_info)"
   ]
  },
  {
   "cell_type": "code",
   "execution_count": 14,
   "metadata": {},
   "outputs": [
    {
     "name": "stdout",
     "output_type": "stream",
     "text": [
      "Tract Information: {'actual': '13051010812', 'tract902': '13051010815'}\n",
      "Score Information: {'actual_tract': '13051010812', 'actual_count': 3, 'nearby_count': 3, 'combined_count': 3, 'actual_only_score': 8, 'nearby_score': 7}\n"
     ]
    }
   ],
   "source": [
    "# Berwick Sr II\n",
    "latitude = 32.0317\n",
    "longitude = -81.22135\n",
    "tract_info = find_census_tracts(latitude, longitude, gdf)\n",
    "score_info = calculate_indicators_score(tract_info, indicators_df)\n",
    "\n",
    "print(\"Tract Information:\", tract_info)\n",
    "print(\"Score Information:\", score_info)"
   ]
  }
 ],
 "metadata": {
  "kernelspec": {
   "display_name": "base",
   "language": "python",
   "name": "python3"
  },
  "language_info": {
   "codemirror_mode": {
    "name": "ipython",
    "version": 3
   },
   "file_extension": ".py",
   "mimetype": "text/x-python",
   "name": "python",
   "nbconvert_exporter": "python",
   "pygments_lexer": "ipython3",
   "version": "3.12.9"
  }
 },
 "nbformat": 4,
 "nbformat_minor": 2
}

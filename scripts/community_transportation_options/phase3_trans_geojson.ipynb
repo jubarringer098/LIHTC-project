{
 "cells": [
  {
   "cell_type": "markdown",
   "metadata": {},
   "source": [
    "## III. Phase3: Census Tract Transit Characteristics Mapping\n",
    "\n",
    "**1. Goal:**\n",
    "\n",
    "To analyze the distribution of potential public transit access across Georgia census tracts based on data collected from the Google Places API (Phase 1) and align these metrics with the concepts in the Georgia QAP Community Transportation Options section. The objective is to create GeoJSON files suitable for mapping census tract-level indicators of transit availability, specifically:\n",
    "\n",
    "- The density of potential transit stops.\n",
    "- The density of potential transit hubs.\n",
    "- The approximate area coverage within 0.5 miles of potential stops.\n",
    "- The approximate area coverage within 0.5 miles of potential hubs.\n",
    "These maps are intended to help visualize areas with higher transit potential relevant to QAP scoring components.\n",
    "\n",
    "**2. Inputs:**\n",
    "\n",
    "*   **`georgia_transit_locations_with_hub.csv`:** A CSV file (output of Phase 1 script) containing a list of potential transit locations across Georgia, identified via Google Places API. Must include columns for `latitude`, `longitude`, `place_id`, and `is_potential_hub`.\n",
    "*   **Georgia Census Tract Boundaries File:** A geospatial file (e.g., Shapefile `.shp` or GeoJSON `.geojson`) defining the polygon boundaries for all census tracts in Georgia. Must contain a unique Census Tract identifier column (e.g., 'GEOID') and geometry information. (Example Source: US Census Bureau TIGER/Line).\n",
    "\n",
    "**3. Outputs:**\n",
    "\n",
    "GeoJSON files saved in the `communi_trans_geo` directory, where each feature represents a Georgia census tract:\n",
    "\n",
    "*   **`georgia_tract_stop_density.geojson`:** Contains tract geometry and a `stop_density` property (integer count of all potential transit stops within the tract).\n",
    "*   **`georgia_tract_hub_density.geojson`:** Contains tract geometry and a `hub_density` property (integer count of potential transit hubs within the tract).\n",
    "*   **`georgia_tract_stop_coverage_0_5mi.geojson`:** Contains tract geometry and a `stop_coverage_pct` property (float percentage, 0-100, of the tract's area within a 0.5-mile straight-line buffer of any potential stop).\n",
    "*   **`georgia_tract_hub_coverage_0_5mi.geojson`:** Contains tract geometry and a `hub_coverage_pct` property (float percentage, 0-100, of the tract's area within a 0.5-mile straight-line buffer of any potential hub).\n",
    "*   **`georgia_tract_community_transportation_place.geojson`:** A combined file containing tract geometry and all four calculated properties (`stop_density`, `hub_density`, `stop_coverage_pct`, `hub_coverage_pct`).\n",
    "\n",
    "\n"
   ]
  },
  {
   "cell_type": "markdown",
   "metadata": {},
   "source": [
    "---\n",
    "# Code"
   ]
  },
  {
   "cell_type": "code",
   "execution_count": 3,
   "metadata": {},
   "outputs": [],
   "source": [
    "# pip install geopandas shapely fiona pyproj pandas\n",
    "\n",
    "import os\n",
    "import pandas as pd\n",
    "import geopandas as gpd\n",
    "import warnings\n",
    "from shapely.validation import make_valid\n",
    "from shapely.errors import GEOSException\n"
   ]
  },
  {
   "cell_type": "code",
   "execution_count": 4,
   "metadata": {},
   "outputs": [
    {
     "name": "stdout",
     "output_type": "stream",
     "text": [
      "\n",
      "Loading transit stops from georgia_transit_locations_with_hub_20250421_0949.csv...\n",
      "  Dropped 0 invalid rows. Remaining: 45554\n",
      "\n",
      "Loading Census tracts from ../LIHTC-Project/data/raw/shapefiles/tl_2024_13_tract/tl_2024_13_tract.shp...\n",
      "\n",
      "Reprojecting to EPSG:26917...\n",
      "\n",
      "Calculating stop and hub densities...\n",
      "\n",
      "Calculating stop coverage...\n"
     ]
    },
    {
     "name": "stderr",
     "output_type": "stream",
     "text": [
      "/var/folders/t1/8k_t8b7j4nbbhz47zswhlb7m0000gn/T/ipykernel_5962/591840060.py:75: DeprecationWarning: The 'unary_union' attribute is deprecated, use the 'union_all()' method instead.\n",
      "  return buffers.unary_union\n"
     ]
    },
    {
     "name": "stdout",
     "output_type": "stream",
     "text": [
      "Calculating hub coverage...\n"
     ]
    },
    {
     "name": "stderr",
     "output_type": "stream",
     "text": [
      "/var/folders/t1/8k_t8b7j4nbbhz47zswhlb7m0000gn/T/ipykernel_5962/591840060.py:75: DeprecationWarning: The 'unary_union' attribute is deprecated, use the 'union_all()' method instead.\n",
      "  return buffers.unary_union\n"
     ]
    },
    {
     "name": "stdout",
     "output_type": "stream",
     "text": [
      "\n",
      "Saving GeoJSON outputs...\n",
      "\n",
      " Transit coverage and density analysis complete.\n",
      "GeoJSON files saved in: communi_trans_geo\n"
     ]
    }
   ],
   "source": [
    "\n",
    "# --- CONFIGURATION ---\n",
    "\n",
    "PHASE1_CSV_FILE = \"georgia_transit_locations_with_hub_20250421_0949.csv\"\n",
    "TRACT_FILE_PATH = \"../LIHTC-Project/data/raw/shapefiles/tl_2024_13_tract/tl_2024_13_tract.shp\"\n",
    "\n",
    "OUTPUT_DIR = \"communi_trans_geo\"\n",
    "os.makedirs(OUTPUT_DIR, exist_ok=True)\n",
    "\n",
    "STOP_DENSITY_GEOJSON   = os.path.join(OUTPUT_DIR, \"georgia_tract_stop_density.geojson\")\n",
    "HUB_DENSITY_GEOJSON    = os.path.join(OUTPUT_DIR, \"georgia_tract_hub_density.geojson\")\n",
    "STOP_COVERAGE_GEOJSON  = os.path.join(OUTPUT_DIR, \"georgia_tract_stop_coverage_0_5mi.geojson\")\n",
    "HUB_COVERAGE_GEOJSON   = os.path.join(OUTPUT_DIR, \"georgia_tract_hub_coverage_0_5mi.geojson\")\n",
    "COMBINED_GEOJSON       = os.path.join(OUTPUT_DIR, \"georgia_tract_community_transportation_place.geojson\")\n",
    "\n",
    "BUFFER_DISTANCE_MILES = 0.5\n",
    "BUFFER_DISTANCE_METERS = BUFFER_DISTANCE_MILES * 1609.34\n",
    "PROJECTED_CRS = \"EPSG:26917\"\n",
    "\n",
    "warnings.filterwarnings(\"ignore\", message=\".*invalid value encountered in intersection.*\")\n",
    "\n",
    "# --- LOAD TRANSIT STOPS ---\n",
    "\n",
    "print(f\"\\nLoading transit stops from {PHASE1_CSV_FILE}...\")\n",
    "transit_df = pd.read_csv(PHASE1_CSV_FILE)\n",
    "transit_df['latitude'] = pd.to_numeric(transit_df['latitude'], errors='coerce')\n",
    "transit_df['longitude'] = pd.to_numeric(transit_df['longitude'], errors='coerce')\n",
    "transit_df['is_potential_hub'] = transit_df['is_potential_hub'].astype(str).str.lower().isin(['true', '1', 't', 'y', 'yes'])\n",
    "\n",
    "original_rows = len(transit_df)\n",
    "transit_df.dropna(subset=['latitude', 'longitude'], inplace=True)\n",
    "print(f\"  Dropped {original_rows - len(transit_df)} invalid rows. Remaining: {len(transit_df)}\")\n",
    "\n",
    "gdf_stops = gpd.GeoDataFrame(\n",
    "    transit_df,\n",
    "    geometry=gpd.points_from_xy(transit_df.longitude, transit_df.latitude),\n",
    "    crs=\"EPSG:4326\"\n",
    ")\n",
    "\n",
    "# --- LOAD TRACTS ---\n",
    "\n",
    "print(f\"\\nLoading Census tracts from {TRACT_FILE_PATH}...\")\n",
    "gdf_tracts = gpd.read_file(TRACT_FILE_PATH)\n",
    "gdf_tracts = gdf_tracts.rename(columns={\"GEOID\": \"GEOID\"})[['GEOID', 'geometry']]\n",
    "\n",
    "# --- REPROJECT TO METRIC CRS ---\n",
    "\n",
    "print(f\"\\nReprojecting to {PROJECTED_CRS}...\")\n",
    "gdf_stops = gdf_stops.to_crs(PROJECTED_CRS)\n",
    "gdf_tracts = gdf_tracts.to_crs(PROJECTED_CRS)\n",
    "\n",
    "# --- CALCULATE AREA ---\n",
    "\n",
    "gdf_tracts['total_tract_area_sqm'] = gdf_tracts.geometry.area\n",
    "gdf_tracts = gdf_tracts[gdf_tracts['total_tract_area_sqm'] > 0]\n",
    "\n",
    "# --- DENSITY CALCULATION ---\n",
    "\n",
    "print(\"\\nCalculating stop and hub densities...\")\n",
    "joined = gpd.sjoin(gdf_stops, gdf_tracts[['GEOID', 'geometry']], predicate=\"within\", how=\"inner\")\n",
    "\n",
    "stop_density = joined.groupby(\"GEOID\").size().rename(\"stop_density\")\n",
    "hub_density = joined[joined[\"is_potential_hub\"]].groupby(\"GEOID\").size().rename(\"hub_density\")\n",
    "\n",
    "gdf = gdf_tracts.merge(stop_density, on=\"GEOID\", how=\"left\").merge(hub_density, on=\"GEOID\", how=\"left\")\n",
    "gdf[\"stop_density\"] = gdf[\"stop_density\"].fillna(0).astype(int)\n",
    "gdf[\"hub_density\"] = gdf[\"hub_density\"].fillna(0).astype(int)\n",
    "\n",
    "# --- BUFFER COVERAGE ---\n",
    "\n",
    "def dissolve_valid_buffers(gdf_points, buffer_dist):\n",
    "    if gdf_points.empty:\n",
    "        return None\n",
    "    buffers = gdf_points.buffer(buffer_dist)\n",
    "    buffers = buffers.apply(lambda geom: make_valid(geom) if not geom.is_valid else geom)\n",
    "    return buffers.unary_union\n",
    "\n",
    "print(\"\\nCalculating stop coverage...\")\n",
    "dissolved_stop = dissolve_valid_buffers(gdf_stops, BUFFER_DISTANCE_METERS)\n",
    "if dissolved_stop:\n",
    "    intersection_area = gdf.geometry.intersection(dissolved_stop).area\n",
    "    gdf[\"stop_coverage_pct\"] = (intersection_area / gdf[\"total_tract_area_sqm\"]) * 100\n",
    "    gdf[\"stop_coverage_pct\"] = gdf[\"stop_coverage_pct\"].clip(0, 100)\n",
    "else:\n",
    "    gdf[\"stop_coverage_pct\"] = 0.0\n",
    "\n",
    "print(\"Calculating hub coverage...\")\n",
    "gdf_hubs = gdf_stops[gdf_stops[\"is_potential_hub\"]]\n",
    "dissolved_hub = dissolve_valid_buffers(gdf_hubs, BUFFER_DISTANCE_METERS)\n",
    "if dissolved_hub:\n",
    "    intersection_area = gdf.geometry.intersection(dissolved_hub).area\n",
    "    gdf[\"hub_coverage_pct\"] = (intersection_area / gdf[\"total_tract_area_sqm\"]) * 100\n",
    "    gdf[\"hub_coverage_pct\"] = gdf[\"hub_coverage_pct\"].clip(0, 100)\n",
    "else:\n",
    "    gdf[\"hub_coverage_pct\"] = 0.0\n",
    "\n",
    "# --- SAVE OUTPUTS ---\n",
    "\n",
    "print(\"\\nSaving GeoJSON outputs...\")\n",
    "gdf[[\"GEOID\", \"geometry\", \"stop_density\"]].to_file(STOP_DENSITY_GEOJSON, driver=\"GeoJSON\")\n",
    "gdf[[\"GEOID\", \"geometry\", \"hub_density\"]].to_file(HUB_DENSITY_GEOJSON, driver=\"GeoJSON\")\n",
    "gdf[[\"GEOID\", \"geometry\", \"stop_coverage_pct\"]].to_file(STOP_COVERAGE_GEOJSON, driver=\"GeoJSON\")\n",
    "gdf[[\"GEOID\", \"geometry\", \"hub_coverage_pct\"]].to_file(HUB_COVERAGE_GEOJSON, driver=\"GeoJSON\")\n",
    "gdf[[\"GEOID\", \"geometry\", \"stop_density\", \"hub_density\", \"stop_coverage_pct\", \"hub_coverage_pct\"]].to_file(COMBINED_GEOJSON, driver=\"GeoJSON\")\n",
    "\n",
    "print(\"\\n Transit coverage and density analysis complete.\")\n",
    "print(f\"GeoJSON files saved in: {OUTPUT_DIR}\")"
   ]
  }
 ],
 "metadata": {
  "kernelspec": {
   "display_name": "lda_env",
   "language": "python",
   "name": "python3"
  },
  "language_info": {
   "codemirror_mode": {
    "name": "ipython",
    "version": 3
   },
   "file_extension": ".py",
   "mimetype": "text/x-python",
   "name": "python",
   "nbconvert_exporter": "python",
   "pygments_lexer": "ipython3",
   "version": "3.10.13"
  }
 },
 "nbformat": 4,
 "nbformat_minor": 2
}

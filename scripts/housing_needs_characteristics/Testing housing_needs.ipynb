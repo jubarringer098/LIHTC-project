{
 "cells": [
  {
   "cell_type": "code",
   "execution_count": 3,
   "metadata": {},
   "outputs": [
    {
     "name": "stdout",
     "output_type": "stream",
     "text": [
      "Total Score: 10\n"
     ]
    }
   ],
   "source": [
    "from housing_needs import HousingNeedsCharacteristics"
   ]
  },
  {
   "cell_type": "markdown",
   "metadata": {},
   "source": [
    "### Validate the housing needs function with actual data"
   ]
  },
  {
   "cell_type": "code",
   "execution_count": 5,
   "metadata": {},
   "outputs": [],
   "source": [
    "census_tract_data = {\"severe_housing_problem\": 20.41}  # 50% of rental units occupied by 80% AMI and below households exhibit a “severe housing problem”\n",
    "county_data = {\"ten_year_population_growth\": True, \"three_year_avg_growth_rate\": 0.1, \"employment_growth_rate\": 1.25}\n",
    "stable_community_score = 4\n",
    "revitalization_score = 4"
   ]
  },
  {
   "cell_type": "code",
   "execution_count": 6,
   "metadata": {},
   "outputs": [
    {
     "name": "stdout",
     "output_type": "stream",
     "text": [
      "Total Score: 5\n"
     ]
    }
   ],
   "source": [
    "housing_needs = HousingNeedsCharacteristics(census_tract_data, county_data, stable_community_score, revitalization_score)\n",
    "print(\"Total Score:\", housing_needs.calculate_total_score())"
   ]
  }
 ],
 "metadata": {
  "kernelspec": {
   "display_name": "base",
   "language": "python",
   "name": "python3"
  },
  "language_info": {
   "codemirror_mode": {
    "name": "ipython",
    "version": 3
   },
   "file_extension": ".py",
   "mimetype": "text/x-python",
   "name": "python",
   "nbconvert_exporter": "python",
   "pygments_lexer": "ipython3",
   "version": "3.12.2"
  }
 },
 "nbformat": 4,
 "nbformat_minor": 2
}

{
 "cells": [
  {
   "cell_type": "code",
   "execution_count": 1,
   "metadata": {},
   "outputs": [],
   "source": [
    "import pandas as pd\n",
    "import geopandas as gpd\n",
    "from shapely.geometry import Point\n",
    "from geopy.distance import geodesic\n",
    "import requests"
   ]
  },
  {
   "cell_type": "code",
   "execution_count": null,
   "metadata": {},
   "outputs": [],
   "source": [
    "def assign_points(distance, group):\n",
    "    \"\"\"\n",
    "    Dynamically assigns points based on amenity group and distance.\n",
    "    \"\"\"\n",
    "    if group == 1:  \n",
    "        if distance <= 0.5:\n",
    "            return 2.5\n",
    "        elif distance <= 1:\n",
    "            return 2\n",
    "        elif distance <= 1.5:\n",
    "            return 1.5\n",
    "    elif group == 2:  \n",
    "        if distance <= 0.5:\n",
    "            return 2\n",
    "        elif distance <= 1:\n",
    "            return 1.5\n",
    "        elif distance <= 2.5:\n",
    "            return 1\n",
    "    return 0 "
   ]
  },
  {
   "cell_type": "code",
   "execution_count": null,
   "metadata": {},
   "outputs": [],
   "source": [
    "# Compute distance between two locations\n",
    "def get_distance(lat1, lon1, lat2, lon2):\n",
    "    return geodesic((lat1, lon1), (lat2, lon2)).miles\n",
    "\n",
    "# Compute desirability score\n",
    "def calculate_site_score(site_lat, site_lon, amenities_df, undesirable_df):\n",
    "    total_points = 0\n",
    "    deductions = 0\n",
    "\n",
    "    for _, row in amenities_df.iterrows():\n",
    "        amenity_type = row[\"amenity_type\"]\n",
    "        amenity_lat, amenity_lon = row[\"latitude\"], row[\"longitude\"]\n",
    "        \n",
    "        if amenity_type in DESIRABLE_AMENITIES:\n",
    "            distance = get_distance(site_lat, site_lon, amenity_lat, amenity_lon)\n",
    "            group = DESIRABLE_AMENITIES[amenity_type][\"group\"]\n",
    "            points = assign_points(distance, group)\n",
    "            total_points += points\n",
    "\n",
    "    for _, row in undesirable_df.iterrows():\n",
    "        undesired_lat, undesired_lon = row[\"latitude\"], row[\"longitude\"]\n",
    "        distance = get_distance(site_lat, site_lon, undesired_lat, undesired_lon)\n",
    "        if distance <= 0.25:\n",
    "            deductions += 2\n",
    "\n",
    "    final_score = max(0, total_points - deductions)\n",
    "    return {\"total_points\": total_points, \"deductions\": deductions, \"final_score\": final_score}\n",
    "\n",
    "# Example site coordinates\n",
    "site_latitude = 33.7490\n",
    "site_longitude = -84.3880\n",
    "\n",
    "# Load datasets\n",
    "amenities_df = pd.read_csv(\"../../data/processed/desirable_amenities.csv\")\n",
    "undesirable_df = pd.read_csv(\"../../data/processed/undesirable_activities.csv\")\n",
    "\n",
    "# Compute score\n",
    "score_info = calculate_site_score(site_latitude, site_longitude, amenities_df, undesirable_df)\n",
    "\n",
    "print(\"Total Points (Desirable):\", score_info[\"total_points\"])\n",
    "print(\"Deductions (Undesirable):\", score_info[\"deductions\"])\n",
    "print(\"Final Score:\", score_info[\"final_score\"])"
   ]
  },
  {
   "cell_type": "markdown",
   "metadata": {},
   "source": [
    "From undesirable_data_processing"
   ]
  },
  {
   "cell_type": "code",
   "execution_count": null,
   "metadata": {},
   "outputs": [],
   "source": [
    "def is_food_desert(lat, lon):\n",
    "    \"\"\"\n",
    "    The QAP references USDA Food Access data. \n",
    "    We check if this site’s census tract is flagged as a 'food desert.'\n",
    "    That typically means the LILATracts_1And20 or similar = 1.\n",
    "    \n",
    "    We'll demonstrate using a shapefile or CSV that has polygons for each tract\n",
    "    plus columns for the LILA flags.\n",
    "    \"\"\"\n",
    "    try:\n",
    "        fd_gdf = gpd.read_file(FOOD_DESERT_SHP)\n",
    "        site_point = Point(lon, lat)\n",
    "        for idx, row in fd_gdf.iterrows():\n",
    "            if row.geometry.contains(site_point):\n",
    "                # check if row says it's a food desert\n",
    "                # e.g., row[\"LILATracts_1And20\"] == 1\n",
    "                # or row[\"LILATracts_halfAnd10\"] == 1, etc. \n",
    "                # depends on QAP’s requirement\n",
    "                if row.get(\"LILATracts_1And20\", 0) == 1:\n",
    "                    return True\n",
    "        return False\n",
    "    except:\n",
    "        return False"
   ]
  },
  {
   "cell_type": "code",
   "execution_count": null,
   "metadata": {},
   "outputs": [],
   "source": [
    "def check_grocery_store_points(lat, lon, pool_type):\n",
    "    \"\"\"\n",
    "    Did the project get any grocery store points? \n",
    "    We'll replicate the grocery store portion from the Desirable scoring \n",
    "    to see if it qualifies for points. If not, then we can apply the food desert deduction.\n",
    "    \"\"\"\n",
    "    # We'll specifically re-run just for 'grocery_store'\n",
    "    config = DESIRABLE_AMENITIES[\"grocery_store\"]\n",
    "    dist = fetch_nearest_desirable(lat, lon, \"grocery_store\", config, pool_type)\n",
    "    pts = compute_desirable_points(pool_type, config[\"group\"], dist)\n",
    "    return pts > 0"
   ]
  },
  {
   "cell_type": "code",
   "execution_count": null,
   "metadata": {},
   "outputs": [],
   "source": [
    "def get_desirable_undesirable_score(lat, lon):\n",
    "    start_time = time.time()\n",
    "\n",
    "    \"\"\"\n",
    "    1) Determine pool\n",
    "    2) Sum up desirable points (cap at 20)\n",
    "    3) Subtract 2 points for each undesirable\n",
    "    4) Check food desert => -2 if no grocery store points\n",
    "    Return final score.\n",
    "    \"\"\"\n",
    "    # 1) Which Pool?\n",
    "    pool_type = determine_pool(lat, lon)\n",
    "    \n",
    "    # 2) Desirable\n",
    "    desirable_pts = calculate_desirable_score(lat, lon, pool_type)\n",
    "    \n",
    "    # 3) Undesirable => each distinct category is -2\n",
    "    # undesirable_deduction = compute_undesirable_deduction(lat, lon)\n",
    "    \n",
    "    # 4) Food desert => if site is in a food desert, and no grocery store points => -2\n",
    "    # food_desert_penalty = 0\n",
    "    # if is_food_desert(lat, lon):\n",
    "    #     got_grocery_points = check_grocery_store_points(lat, lon, pool_type)\n",
    "    #     if not got_grocery_points:\n",
    "    #         food_desert_penalty = 2\n",
    "    \n",
    "    # final_score = desirable_pts - undesirable_deduction - food_desert_penalty\n",
    "    print(\"get_desirable_undesirable_score took \", time.time() - start_time, \"seconds\")\n",
    "\n",
    "    final_score = desirable_pts\n",
    "    return final_score"
   ]
  },
  {
   "cell_type": "code",
   "execution_count": null,
   "metadata": {},
   "outputs": [],
   "source": [
    "site_lat = 30.98833\n",
    "site_lon = -82.89667\n",
    "score = identify_undesirable_activities(site_lat, site_lon, radius_miles=0.25)\n",
    "print(score)\n"
   ]
  },
  {
   "cell_type": "code",
   "execution_count": null,
   "metadata": {},
   "outputs": [],
   "source": [
    "if __name__ == \"__main__\":\n",
    "    # Example usage: pick a lat/lon in GA\n",
    "    site_lat = 30.818623\n",
    "    site_lon = -83.265127\n",
    "    score = get_desirable_undesirable_score(site_lat, site_lon)\n",
    "    print(f\"Final Desirable/Undesirable Score for site at ({site_lat}, {site_lon}): {score}\")"
   ]
  }
 ],
 "metadata": {
  "kernelspec": {
   "display_name": "base",
   "language": "python",
   "name": "python3"
  },
  "language_info": {
   "codemirror_mode": {
    "name": "ipython",
    "version": 3
   },
   "file_extension": ".py",
   "mimetype": "text/x-python",
   "name": "python",
   "nbconvert_exporter": "python",
   "pygments_lexer": "ipython3",
   "version": "3.12.7"
  }
 },
 "nbformat": 4,
 "nbformat_minor": 2
}

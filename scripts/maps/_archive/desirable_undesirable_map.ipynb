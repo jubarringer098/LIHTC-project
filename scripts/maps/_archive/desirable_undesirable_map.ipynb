{
 "cells": [
  {
   "cell_type": "code",
   "execution_count": null,
   "id": "1918d689",
   "metadata": {},
   "outputs": [],
   "source": [
    "import numpy as np\n",
    "import pandas as pd\n",
    "import geopandas as gpd\n",
    "import matplotlib.pyplot as plt\n",
    "from shapely.geometry import Point\n",
    "from tqdm import tqdm\n",
    "\n",
    "import csv\n",
    "import os\n",
    "\n",
    "import sys\n",
    "sys.path.append(\"../desirable_undesirable_activities\")\n",
    "\n",
    "import nbimporter\n",
    "from desirable_undesirable_scoring import (\n",
    "    compute_overall_score,\n",
    "    classify_location,\n",
    "    rural_union_geom,\n",
    "    desirable_df,\n",
    "    grocery_df,\n",
    "    usda_df,\n",
    "    tract_gdf,\n",
    "    undesirable_df\n",
    ")\n",
    "\n",
    "from joblib import Parallel, delayed\n",
    "from tqdm_joblib import tqdm_joblib\n",
    "from tqdm import tqdm\n",
    "import csv"
   ]
  },
  {
   "cell_type": "code",
   "execution_count": 3,
   "id": "e675fa0a",
   "metadata": {},
   "outputs": [],
   "source": [
    "# Define grid bounds and step size\n",
    "lat_min, lat_max = 30.4, 35.0\n",
    "lon_min, lon_max = -85.6, -80.8\n",
    "step = 0.02"
   ]
  },
  {
   "cell_type": "code",
   "execution_count": 4,
   "id": "9a59dbaa",
   "metadata": {},
   "outputs": [],
   "source": [
    "output_file = \"desirable_undesirable_scores.csv\""
   ]
  },
  {
   "cell_type": "code",
   "execution_count": null,
   "id": "784e1040",
   "metadata": {},
   "outputs": [],
   "source": [
    "lat_vals = np.arange(lat_min, lat_max, step)\n",
    "lon_vals = np.arange(lon_min, lon_max, step)\n",
    "all_pairs = list(np.array(np.meshgrid(lat_vals, lon_vals)).T.reshape(-1, 2))"
   ]
  },
  {
   "cell_type": "code",
   "execution_count": null,
   "id": "59418583",
   "metadata": {},
   "outputs": [],
   "source": [
    "if os.path.exists(output_file):\n",
    "    processed = pd.read_csv(output_file, usecols=[\"lat\", \"lon\"])\n",
    "    processed[[\"lat\", \"lon\"]] = (\n",
    "    processed[[\"lat\", \"lon\"]]\n",
    "    .astype(float)   \n",
    "    .round(6)\n",
    "    )  \n",
    "    processed_set = set(zip(processed[\"lat\"], processed[\"lon\"]))\n",
    "else:\n",
    "    processed_set = set()"
   ]
  },
  {
   "cell_type": "code",
   "execution_count": 7,
   "id": "589734cb",
   "metadata": {},
   "outputs": [],
   "source": [
    "lat_lon_pairs = [\n",
    "    (round(lat, 6), round(lon, 6))\n",
    "    for lat, lon in all_pairs\n",
    "    if (round(lat, 6), round(lon, 6)) not in processed_set\n",
    "]"
   ]
  },
  {
   "cell_type": "code",
   "execution_count": 8,
   "id": "00f9b7bd",
   "metadata": {},
   "outputs": [],
   "source": [
    "chunk_size = 20\n",
    "lat_lon_chunks = [lat_lon_pairs[i:i + chunk_size] for i in range(0, len(lat_lon_pairs), chunk_size)]"
   ]
  },
  {
   "cell_type": "code",
   "execution_count": null,
   "id": "e19f72db",
   "metadata": {},
   "outputs": [
    {
     "name": "stderr",
     "output_type": "stream",
     "text": [
      "/opt/homebrew/anaconda3/lib/python3.12/site-packages/tqdm_joblib/__init__.py:4: TqdmExperimentalWarning: Using `tqdm.autonotebook.tqdm` in notebook mode. Use `tqdm.tqdm` instead to force console mode (e.g. in jupyter console)\n",
      "  from tqdm.autonotebook import tqdm\n",
      "Processing chunks:   0%|          | 0/26 [00:00<?, ?it/s]"
     ]
    },
    {
     "data": {
      "application/vnd.jupyter.widget-view+json": {
       "model_id": "af8336283cc34724ae01660706b08aac",
       "version_major": 2,
       "version_minor": 0
      },
      "text/plain": [
       "  0%|          | 0/26 [00:00<?, ?it/s]"
      ]
     },
     "metadata": {},
     "output_type": "display_data"
    }
   ],
   "source": [
    "def process_chunk(chunk):\n",
    "    output = []\n",
    "    for lat, lon in chunk:\n",
    "        try:\n",
    "            is_rural = classify_location(lat, lon, rural_union_geom)\n",
    "            result = compute_overall_score(\n",
    "                lat, lon, is_rural,\n",
    "                desirable_df, grocery_df, usda_df, tract_gdf, undesirable_df\n",
    "            )\n",
    "            output.append([\n",
    "                lat, lon,\n",
    "                result[\"Desirable Score\"],\n",
    "                result[\"Total Deductions\"],\n",
    "                result[\"Overall Score\"],\n",
    "                result[\"Final Score\"]\n",
    "            ])\n",
    "        except Exception as e:\n",
    "            print(f\"Error at ({lat}, {lon}): {e}\")\n",
    "    return output\n",
    "\n",
    "# Open CSV once for append\n",
    "with open(output_file, \"a\", newline=\"\") as f:\n",
    "    writer = csv.writer(f)\n",
    "    # Run in parallel with loky + a live tqdm bar\n",
    "    with tqdm_joblib(tqdm(total=len(lat_lon_chunks), desc=\"Processing chunks\")):\n",
    "        results = Parallel(\n",
    "            n_jobs=4,\n",
    "            backend=\"loky\",\n",
    "            pre_dispatch=\"4\"   \n",
    "        )(\n",
    "            delayed(process_chunk)(chunk)\n",
    "            for chunk in lat_lon_chunks\n",
    "        )\n",
    "\n",
    "    for rows in results:\n",
    "        writer.writerows(rows)\n",
    "        f.flush()"
   ]
  },
  {
   "cell_type": "code",
   "execution_count": 13,
   "id": "039933f9",
   "metadata": {},
   "outputs": [],
   "source": [
    "import pandas as pd\n",
    "import geopandas as gpd\n",
    "from shapely.geometry import Point  "
   ]
  },
  {
   "cell_type": "code",
   "execution_count": 14,
   "id": "deed3436",
   "metadata": {},
   "outputs": [],
   "source": [
    "ga_tracts = gpd.read_file(\"../../data/raw/shapefiles/tl_2024_13_tract/tl_2024_13_tract.shp\").to_crs(epsg=3857)"
   ]
  },
  {
   "cell_type": "code",
   "execution_count": 15,
   "id": "c9876e1e",
   "metadata": {},
   "outputs": [],
   "source": [
    "df = pd.read_csv(\"../../data/map/desirable_undesirable_activities/desirable_undesirable_scores.csv\")          # must contain latitude & longitude columns\n",
    "\n",
    "gdf = gpd.GeoDataFrame(\n",
    "        df,\n",
    "        geometry=gpd.points_from_xy(df.lon, df.lat),\n",
    "        crs=\"EPSG:4326\"                       # \n",
    ")"
   ]
  },
  {
   "cell_type": "code",
   "execution_count": 16,
   "id": "a7dcb7b6",
   "metadata": {},
   "outputs": [],
   "source": [
    "ga_tracts = ga_tracts.to_crs(gdf.crs)\n"
   ]
  },
  {
   "cell_type": "code",
   "execution_count": 17,
   "id": "7eefe482",
   "metadata": {},
   "outputs": [],
   "source": [
    "ga_boundary = ga_tracts.dissolve()\n",
    "\n",
    "# Spatial filter: keep only points inside Georgia\n",
    "gdf_ga_only = gdf[gdf.within(ga_boundary.geometry.iloc[0])]"
   ]
  },
  {
   "cell_type": "code",
   "execution_count": 18,
   "id": "c24af71b",
   "metadata": {},
   "outputs": [],
   "source": [
    "gdf_ga_only.to_file(\"../../data/map/desirable_undesirable_activities/desirable_undesirable_scores.geojson\", driver=\"GeoJSON\")"
   ]
  }
 ],
 "metadata": {
  "kernelspec": {
   "display_name": "base",
   "language": "python",
   "name": "python3"
  },
  "language_info": {
   "codemirror_mode": {
    "name": "ipython",
    "version": 3
   },
   "file_extension": ".py",
   "mimetype": "text/x-python",
   "name": "python",
   "nbconvert_exporter": "python",
   "pygments_lexer": "ipython3",
   "version": "3.12.9"
  }
 },
 "nbformat": 4,
 "nbformat_minor": 5
}
